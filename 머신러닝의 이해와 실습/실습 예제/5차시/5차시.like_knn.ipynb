{
 "cells": [
  {
   "cell_type": "code",
   "execution_count": 2,
   "metadata": {
    "collapsed": false
   },
   "outputs": [
    {
     "data": {
      "text/html": [
       "<div>\n",
       "<table border=\"1\" class=\"dataframe\">\n",
       "  <thead>\n",
       "    <tr style=\"text-align: right;\">\n",
       "      <th></th>\n",
       "      <th>talk</th>\n",
       "      <th>book</th>\n",
       "      <th>travel</th>\n",
       "      <th>school</th>\n",
       "      <th>tall</th>\n",
       "      <th>skin</th>\n",
       "      <th>muscle</th>\n",
       "      <th>like_level</th>\n",
       "    </tr>\n",
       "  </thead>\n",
       "  <tbody>\n",
       "    <tr>\n",
       "      <th>0</th>\n",
       "      <td>30</td>\n",
       "      <td>80</td>\n",
       "      <td>40</td>\n",
       "      <td>40</td>\n",
       "      <td>90</td>\n",
       "      <td>90</td>\n",
       "      <td>50</td>\n",
       "      <td>1타입</td>\n",
       "    </tr>\n",
       "    <tr>\n",
       "      <th>1</th>\n",
       "      <td>60</td>\n",
       "      <td>50</td>\n",
       "      <td>70</td>\n",
       "      <td>50</td>\n",
       "      <td>60</td>\n",
       "      <td>60</td>\n",
       "      <td>90</td>\n",
       "      <td>2타입</td>\n",
       "    </tr>\n",
       "    <tr>\n",
       "      <th>2</th>\n",
       "      <td>50</td>\n",
       "      <td>40</td>\n",
       "      <td>80</td>\n",
       "      <td>60</td>\n",
       "      <td>50</td>\n",
       "      <td>70</td>\n",
       "      <td>80</td>\n",
       "      <td>2타입</td>\n",
       "    </tr>\n",
       "    <tr>\n",
       "      <th>3</th>\n",
       "      <td>90</td>\n",
       "      <td>50</td>\n",
       "      <td>60</td>\n",
       "      <td>30</td>\n",
       "      <td>40</td>\n",
       "      <td>20</td>\n",
       "      <td>30</td>\n",
       "      <td>3타입</td>\n",
       "    </tr>\n",
       "    <tr>\n",
       "      <th>4</th>\n",
       "      <td>50</td>\n",
       "      <td>70</td>\n",
       "      <td>30</td>\n",
       "      <td>70</td>\n",
       "      <td>70</td>\n",
       "      <td>80</td>\n",
       "      <td>60</td>\n",
       "      <td>1타입</td>\n",
       "    </tr>\n",
       "  </tbody>\n",
       "</table>\n",
       "</div>"
      ],
      "text/plain": [
       "   talk  book  travel  school  tall  skin  muscle like_level\n",
       "0    30    80      40      40    90    90      50        1타입\n",
       "1    60    50      70      50    60    60      90        2타입\n",
       "2    50    40      80      60    50    70      80        2타입\n",
       "3    90    50      60      30    40    20      30        3타입\n",
       "4    50    70      30      70    70    80      60        1타입"
      ]
     },
     "execution_count": 2,
     "metadata": {},
     "output_type": "execute_result"
    }
   ],
   "source": [
    "import pandas as pd\n",
    "%matplotlib inline\n",
    "import matplotlib.pyplot as plt\n",
    "import numpy as np\n",
    "\n",
    "#데이터를 읽어오기\n",
    "like = pd.read_csv('like.csv')\n",
    "like.columns = ['talk' , 'book' , 'travel' , 'school' , 'tall' , 'skin' , 'muscle' , 'like_level']\n",
    "like.head() "
   ]
  },
  {
   "cell_type": "code",
   "execution_count": 3,
   "metadata": {
    "collapsed": false
   },
   "outputs": [
    {
     "name": "stdout",
     "output_type": "stream",
     "text": [
      "(14, 7)\n",
      "(14,)\n"
     ]
    }
   ],
   "source": [
    "#입력과 target데이터를 분리한다. \n",
    "x = np.array(like.drop('like_level', axis=1))\n",
    "print(x.shape)\n",
    "y = np.array(like.like_level)\n",
    "print(y.shape)"
   ]
  },
  {
   "cell_type": "code",
   "execution_count": 4,
   "metadata": {
    "collapsed": false
   },
   "outputs": [
    {
     "data": {
      "text/plain": [
       "((14,), (14, 7))"
      ]
     },
     "execution_count": 4,
     "metadata": {},
     "output_type": "execute_result"
    }
   ],
   "source": [
    "y.shape , x.shape"
   ]
  },
  {
   "cell_type": "code",
   "execution_count": 5,
   "metadata": {
    "collapsed": false
   },
   "outputs": [
    {
     "name": "stderr",
     "output_type": "stream",
     "text": [
      "C:\\Users\\USER\\Anaconda3\\lib\\site-packages\\sklearn\\utils\\validation.py:475: DataConversionWarning: Data with input dtype int64 was converted to float64 by StandardScaler.\n",
      "  warnings.warn(msg, DataConversionWarning)\n"
     ]
    }
   ],
   "source": [
    "#데이터를 정규화한다. \n",
    "from sklearn.preprocessing import StandardScaler  \n",
    "scaler = StandardScaler()  \n",
    "scaler.fit(x)\n",
    "\n",
    "x = scaler.transform(x)"
   ]
  },
  {
   "cell_type": "code",
   "execution_count": 99,
   "metadata": {
    "collapsed": false
   },
   "outputs": [
    {
     "data": {
      "text/plain": [
       "array([[-1.26962211,  1.34164079, -0.8461218 , -0.98782916,  2.06644812,\n",
       "         1.29927838, -0.59160798],\n",
       "       [ 0.21160368, -0.36590203,  0.57536283, -0.3592106 ,  0.04805693,\n",
       "        -0.09994449,  1.77482393],\n",
       "       [-0.28213825, -0.93508297,  1.04919104,  0.26940795, -0.62474013,\n",
       "         0.36646313,  1.18321596],\n",
       "       [ 1.69282948, -0.36590203,  0.10153462, -1.61644772, -1.29753719,\n",
       "        -1.96557498, -1.77482393],\n",
       "       [-0.28213825,  0.77245985, -1.31995001,  0.89802651,  0.720854  ,\n",
       "         0.83287076,  0.        ],\n",
       "       [ 0.70534562, -1.50426391,  0.10153462, -0.98782916, -1.29753719,\n",
       "        -1.03275974, -1.77482393],\n",
       "       [-0.77588018,  1.91082173,  0.10153462,  0.26940795,  0.04805693,\n",
       "         0.83287076,  0.        ],\n",
       "       [-1.26962211,  0.20327891,  1.52301925,  0.26940795, -1.29753719,\n",
       "         0.36646313,  0.59160798],\n",
       "       [ 1.19908755, -0.93508297, -1.79377823,  1.52664507,  0.04805693,\n",
       "        -1.03275974, -0.59160798],\n",
       "       [-0.28213825,  0.77245985,  0.57536283, -0.3592106 ,  0.720854  ,\n",
       "         1.29927838, -0.59160798],\n",
       "       [ 1.19908755, -0.36590203,  0.10153462, -0.98782916, -0.62474013,\n",
       "        -1.03275974,  0.59160798],\n",
       "       [-1.26962211,  0.77245985, -1.31995001,  2.15526362,  0.720854  ,\n",
       "         0.83287076,  0.        ],\n",
       "       [-0.77588018,  0.20327891,  1.52301925,  0.26940795, -0.62474013,\n",
       "         0.36646313,  1.18321596],\n",
       "       [ 1.19908755, -1.50426391, -0.37229359, -0.3592106 ,  1.39365106,\n",
       "        -1.03275974,  0.        ]])"
      ]
     },
     "execution_count": 99,
     "metadata": {},
     "output_type": "execute_result"
    }
   ],
   "source": [
    "x"
   ]
  },
  {
   "cell_type": "code",
   "execution_count": 100,
   "metadata": {
    "collapsed": false
   },
   "outputs": [
    {
     "data": {
      "text/plain": [
       "KNeighborsClassifier(algorithm='auto', leaf_size=30, metric='minkowski',\n",
       "           metric_params=None, n_jobs=1, n_neighbors=5, p=2,\n",
       "           weights='uniform')"
      ]
     },
     "execution_count": 100,
     "metadata": {},
     "output_type": "execute_result"
    }
   ],
   "source": [
    "#knn 분류기 모델을 만든다. \n",
    "from sklearn.neighbors import KNeighborsClassifier  \n",
    "classifier = KNeighborsClassifier(n_neighbors=5)  \n",
    "classifier.fit(x, y)  "
   ]
  },
  {
   "cell_type": "code",
   "execution_count": 101,
   "metadata": {
    "collapsed": false
   },
   "outputs": [
    {
     "data": {
      "text/plain": [
       "array(['1타입', '2타입', '2타입', '3타입', '1타입', '3타입', '1타입', '2타입', '3타입',\n",
       "       '1타입', '3타입', '1타입', '2타입', '3타입'], dtype=object)"
      ]
     },
     "execution_count": 101,
     "metadata": {},
     "output_type": "execute_result"
    }
   ],
   "source": [
    "#원래의 데이터를 넣어서 예측한다. \n",
    "y_pred = classifier.predict(x)  \n",
    "y_pred"
   ]
  },
  {
   "cell_type": "code",
   "execution_count": 102,
   "metadata": {
    "collapsed": false
   },
   "outputs": [
    {
     "data": {
      "text/plain": [
       "array(['1타입', '2타입', '2타입', '3타입', '1타입', '3타입', '1타입', '2타입', '3타입',\n",
       "       '1타입', '3타입', '1타입', '2타입', '3타입'], dtype=object)"
      ]
     },
     "execution_count": 102,
     "metadata": {},
     "output_type": "execute_result"
    }
   ],
   "source": [
    "y"
   ]
  },
  {
   "cell_type": "code",
   "execution_count": 103,
   "metadata": {
    "collapsed": false
   },
   "outputs": [
    {
     "name": "stdout",
     "output_type": "stream",
     "text": [
      "[[5 0 0]\n",
      " [0 4 0]\n",
      " [0 0 5]]\n",
      "             precision    recall  f1-score   support\n",
      "\n",
      "        1타입       1.00      1.00      1.00         5\n",
      "        2타입       1.00      1.00      1.00         4\n",
      "        3타입       1.00      1.00      1.00         5\n",
      "\n",
      "avg / total       1.00      1.00      1.00        14\n",
      "\n"
     ]
    }
   ],
   "source": [
    "#모델을 평가한다. \n",
    "from sklearn.metrics import classification_report, confusion_matrix  \n",
    "print(confusion_matrix(y, y_pred))  \n",
    "print(classification_report(y, y_pred))  "
   ]
  },
  {
   "cell_type": "code",
   "execution_count": null,
   "metadata": {
    "collapsed": true
   },
   "outputs": [],
   "source": []
  }
 ],
 "metadata": {
  "anaconda-cloud": {},
  "kernelspec": {
   "display_name": "Python [default]",
   "language": "python",
   "name": "python3"
  },
  "language_info": {
   "codemirror_mode": {
    "name": "ipython",
    "version": 3
   },
   "file_extension": ".py",
   "mimetype": "text/x-python",
   "name": "python",
   "nbconvert_exporter": "python",
   "pygments_lexer": "ipython3",
   "version": "3.5.2"
  }
 },
 "nbformat": 4,
 "nbformat_minor": 1
}
