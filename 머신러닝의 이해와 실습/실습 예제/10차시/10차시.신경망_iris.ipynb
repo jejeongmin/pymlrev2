{
 "cells": [
  {
   "cell_type": "code",
   "execution_count": 2,
   "metadata": {
    "collapsed": true
   },
   "outputs": [],
   "source": [
    "import pandas as pd\n",
    "\n",
    "# Location of dataset\n",
    "url = \"https://archive.ics.uci.edu/ml/machine-learning-databases/iris/iris.data\"\n",
    "\n",
    "# Assign colum names to the dataset\n",
    "names = ['sepal-length', 'sepal-width', 'petal-length', 'petal-width', 'Class']\n",
    "\n",
    "# Read dataset to pandas dataframe\n",
    "irisdata = pd.read_csv(url, names=names)  "
   ]
  },
  {
   "cell_type": "code",
   "execution_count": 3,
   "metadata": {
    "collapsed": false
   },
   "outputs": [
    {
     "data": {
      "text/html": [
       "<div>\n",
       "<table border=\"1\" class=\"dataframe\">\n",
       "  <thead>\n",
       "    <tr style=\"text-align: right;\">\n",
       "      <th></th>\n",
       "      <th>sepal-length</th>\n",
       "      <th>sepal-width</th>\n",
       "      <th>petal-length</th>\n",
       "      <th>petal-width</th>\n",
       "      <th>Class</th>\n",
       "    </tr>\n",
       "  </thead>\n",
       "  <tbody>\n",
       "    <tr>\n",
       "      <th>0</th>\n",
       "      <td>5.1</td>\n",
       "      <td>3.5</td>\n",
       "      <td>1.4</td>\n",
       "      <td>0.2</td>\n",
       "      <td>Iris-setosa</td>\n",
       "    </tr>\n",
       "    <tr>\n",
       "      <th>1</th>\n",
       "      <td>4.9</td>\n",
       "      <td>3.0</td>\n",
       "      <td>1.4</td>\n",
       "      <td>0.2</td>\n",
       "      <td>Iris-setosa</td>\n",
       "    </tr>\n",
       "    <tr>\n",
       "      <th>2</th>\n",
       "      <td>4.7</td>\n",
       "      <td>3.2</td>\n",
       "      <td>1.3</td>\n",
       "      <td>0.2</td>\n",
       "      <td>Iris-setosa</td>\n",
       "    </tr>\n",
       "    <tr>\n",
       "      <th>3</th>\n",
       "      <td>4.6</td>\n",
       "      <td>3.1</td>\n",
       "      <td>1.5</td>\n",
       "      <td>0.2</td>\n",
       "      <td>Iris-setosa</td>\n",
       "    </tr>\n",
       "    <tr>\n",
       "      <th>4</th>\n",
       "      <td>5.0</td>\n",
       "      <td>3.6</td>\n",
       "      <td>1.4</td>\n",
       "      <td>0.2</td>\n",
       "      <td>Iris-setosa</td>\n",
       "    </tr>\n",
       "  </tbody>\n",
       "</table>\n",
       "</div>"
      ],
      "text/plain": [
       "   sepal-length  sepal-width  petal-length  petal-width        Class\n",
       "0           5.1          3.5           1.4          0.2  Iris-setosa\n",
       "1           4.9          3.0           1.4          0.2  Iris-setosa\n",
       "2           4.7          3.2           1.3          0.2  Iris-setosa\n",
       "3           4.6          3.1           1.5          0.2  Iris-setosa\n",
       "4           5.0          3.6           1.4          0.2  Iris-setosa"
      ]
     },
     "execution_count": 3,
     "metadata": {},
     "output_type": "execute_result"
    }
   ],
   "source": [
    "irisdata.head()"
   ]
  },
  {
   "cell_type": "code",
   "execution_count": 4,
   "metadata": {
    "collapsed": true
   },
   "outputs": [],
   "source": [
    "# Assign data from first four columns to X variable\n",
    "X = irisdata.iloc[:, 0:4]\n",
    "\n",
    "# Assign data from first fifth columns to y variable\n",
    "y = irisdata.select_dtypes(include=[object])  "
   ]
  },
  {
   "cell_type": "code",
   "execution_count": 5,
   "metadata": {
    "collapsed": false
   },
   "outputs": [
    {
     "data": {
      "text/html": [
       "<div>\n",
       "<table border=\"1\" class=\"dataframe\">\n",
       "  <thead>\n",
       "    <tr style=\"text-align: right;\">\n",
       "      <th></th>\n",
       "      <th>Class</th>\n",
       "    </tr>\n",
       "  </thead>\n",
       "  <tbody>\n",
       "    <tr>\n",
       "      <th>0</th>\n",
       "      <td>Iris-setosa</td>\n",
       "    </tr>\n",
       "    <tr>\n",
       "      <th>1</th>\n",
       "      <td>Iris-setosa</td>\n",
       "    </tr>\n",
       "    <tr>\n",
       "      <th>2</th>\n",
       "      <td>Iris-setosa</td>\n",
       "    </tr>\n",
       "    <tr>\n",
       "      <th>3</th>\n",
       "      <td>Iris-setosa</td>\n",
       "    </tr>\n",
       "    <tr>\n",
       "      <th>4</th>\n",
       "      <td>Iris-setosa</td>\n",
       "    </tr>\n",
       "  </tbody>\n",
       "</table>\n",
       "</div>"
      ],
      "text/plain": [
       "         Class\n",
       "0  Iris-setosa\n",
       "1  Iris-setosa\n",
       "2  Iris-setosa\n",
       "3  Iris-setosa\n",
       "4  Iris-setosa"
      ]
     },
     "execution_count": 5,
     "metadata": {},
     "output_type": "execute_result"
    }
   ],
   "source": [
    "y.head()"
   ]
  },
  {
   "cell_type": "code",
   "execution_count": 6,
   "metadata": {
    "collapsed": false
   },
   "outputs": [
    {
     "data": {
      "text/html": [
       "<div>\n",
       "<table border=\"1\" class=\"dataframe\">\n",
       "  <thead>\n",
       "    <tr style=\"text-align: right;\">\n",
       "      <th></th>\n",
       "      <th>sepal-length</th>\n",
       "      <th>sepal-width</th>\n",
       "      <th>petal-length</th>\n",
       "      <th>petal-width</th>\n",
       "    </tr>\n",
       "  </thead>\n",
       "  <tbody>\n",
       "    <tr>\n",
       "      <th>0</th>\n",
       "      <td>5.1</td>\n",
       "      <td>3.5</td>\n",
       "      <td>1.4</td>\n",
       "      <td>0.2</td>\n",
       "    </tr>\n",
       "    <tr>\n",
       "      <th>1</th>\n",
       "      <td>4.9</td>\n",
       "      <td>3.0</td>\n",
       "      <td>1.4</td>\n",
       "      <td>0.2</td>\n",
       "    </tr>\n",
       "    <tr>\n",
       "      <th>2</th>\n",
       "      <td>4.7</td>\n",
       "      <td>3.2</td>\n",
       "      <td>1.3</td>\n",
       "      <td>0.2</td>\n",
       "    </tr>\n",
       "    <tr>\n",
       "      <th>3</th>\n",
       "      <td>4.6</td>\n",
       "      <td>3.1</td>\n",
       "      <td>1.5</td>\n",
       "      <td>0.2</td>\n",
       "    </tr>\n",
       "    <tr>\n",
       "      <th>4</th>\n",
       "      <td>5.0</td>\n",
       "      <td>3.6</td>\n",
       "      <td>1.4</td>\n",
       "      <td>0.2</td>\n",
       "    </tr>\n",
       "  </tbody>\n",
       "</table>\n",
       "</div>"
      ],
      "text/plain": [
       "   sepal-length  sepal-width  petal-length  petal-width\n",
       "0           5.1          3.5           1.4          0.2\n",
       "1           4.9          3.0           1.4          0.2\n",
       "2           4.7          3.2           1.3          0.2\n",
       "3           4.6          3.1           1.5          0.2\n",
       "4           5.0          3.6           1.4          0.2"
      ]
     },
     "execution_count": 6,
     "metadata": {},
     "output_type": "execute_result"
    }
   ],
   "source": [
    "X.head()"
   ]
  },
  {
   "cell_type": "code",
   "execution_count": 7,
   "metadata": {
    "collapsed": false
   },
   "outputs": [
    {
     "data": {
      "text/plain": [
       "array(['Iris-setosa', 'Iris-versicolor', 'Iris-virginica'], dtype=object)"
      ]
     },
     "execution_count": 7,
     "metadata": {},
     "output_type": "execute_result"
    }
   ],
   "source": [
    "y.Class.unique()  "
   ]
  },
  {
   "cell_type": "code",
   "execution_count": 8,
   "metadata": {
    "collapsed": true
   },
   "outputs": [],
   "source": [
    "from sklearn import preprocessing  \n",
    "le = preprocessing.LabelEncoder()\n",
    "\n",
    "y = y.apply(le.fit_transform)  "
   ]
  },
  {
   "cell_type": "code",
   "execution_count": 9,
   "metadata": {
    "collapsed": false,
    "scrolled": true
   },
   "outputs": [
    {
     "data": {
      "text/html": [
       "<div>\n",
       "<table border=\"1\" class=\"dataframe\">\n",
       "  <thead>\n",
       "    <tr style=\"text-align: right;\">\n",
       "      <th></th>\n",
       "      <th>Class</th>\n",
       "    </tr>\n",
       "  </thead>\n",
       "  <tbody>\n",
       "    <tr>\n",
       "      <th>0</th>\n",
       "      <td>0</td>\n",
       "    </tr>\n",
       "    <tr>\n",
       "      <th>1</th>\n",
       "      <td>0</td>\n",
       "    </tr>\n",
       "    <tr>\n",
       "      <th>2</th>\n",
       "      <td>0</td>\n",
       "    </tr>\n",
       "    <tr>\n",
       "      <th>3</th>\n",
       "      <td>0</td>\n",
       "    </tr>\n",
       "    <tr>\n",
       "      <th>4</th>\n",
       "      <td>0</td>\n",
       "    </tr>\n",
       "    <tr>\n",
       "      <th>5</th>\n",
       "      <td>0</td>\n",
       "    </tr>\n",
       "    <tr>\n",
       "      <th>6</th>\n",
       "      <td>0</td>\n",
       "    </tr>\n",
       "    <tr>\n",
       "      <th>7</th>\n",
       "      <td>0</td>\n",
       "    </tr>\n",
       "    <tr>\n",
       "      <th>8</th>\n",
       "      <td>0</td>\n",
       "    </tr>\n",
       "    <tr>\n",
       "      <th>9</th>\n",
       "      <td>0</td>\n",
       "    </tr>\n",
       "    <tr>\n",
       "      <th>10</th>\n",
       "      <td>0</td>\n",
       "    </tr>\n",
       "    <tr>\n",
       "      <th>11</th>\n",
       "      <td>0</td>\n",
       "    </tr>\n",
       "    <tr>\n",
       "      <th>12</th>\n",
       "      <td>0</td>\n",
       "    </tr>\n",
       "    <tr>\n",
       "      <th>13</th>\n",
       "      <td>0</td>\n",
       "    </tr>\n",
       "    <tr>\n",
       "      <th>14</th>\n",
       "      <td>0</td>\n",
       "    </tr>\n",
       "    <tr>\n",
       "      <th>15</th>\n",
       "      <td>0</td>\n",
       "    </tr>\n",
       "    <tr>\n",
       "      <th>16</th>\n",
       "      <td>0</td>\n",
       "    </tr>\n",
       "    <tr>\n",
       "      <th>17</th>\n",
       "      <td>0</td>\n",
       "    </tr>\n",
       "    <tr>\n",
       "      <th>18</th>\n",
       "      <td>0</td>\n",
       "    </tr>\n",
       "    <tr>\n",
       "      <th>19</th>\n",
       "      <td>0</td>\n",
       "    </tr>\n",
       "    <tr>\n",
       "      <th>20</th>\n",
       "      <td>0</td>\n",
       "    </tr>\n",
       "    <tr>\n",
       "      <th>21</th>\n",
       "      <td>0</td>\n",
       "    </tr>\n",
       "    <tr>\n",
       "      <th>22</th>\n",
       "      <td>0</td>\n",
       "    </tr>\n",
       "    <tr>\n",
       "      <th>23</th>\n",
       "      <td>0</td>\n",
       "    </tr>\n",
       "    <tr>\n",
       "      <th>24</th>\n",
       "      <td>0</td>\n",
       "    </tr>\n",
       "    <tr>\n",
       "      <th>25</th>\n",
       "      <td>0</td>\n",
       "    </tr>\n",
       "    <tr>\n",
       "      <th>26</th>\n",
       "      <td>0</td>\n",
       "    </tr>\n",
       "    <tr>\n",
       "      <th>27</th>\n",
       "      <td>0</td>\n",
       "    </tr>\n",
       "    <tr>\n",
       "      <th>28</th>\n",
       "      <td>0</td>\n",
       "    </tr>\n",
       "    <tr>\n",
       "      <th>29</th>\n",
       "      <td>0</td>\n",
       "    </tr>\n",
       "    <tr>\n",
       "      <th>...</th>\n",
       "      <td>...</td>\n",
       "    </tr>\n",
       "    <tr>\n",
       "      <th>120</th>\n",
       "      <td>2</td>\n",
       "    </tr>\n",
       "    <tr>\n",
       "      <th>121</th>\n",
       "      <td>2</td>\n",
       "    </tr>\n",
       "    <tr>\n",
       "      <th>122</th>\n",
       "      <td>2</td>\n",
       "    </tr>\n",
       "    <tr>\n",
       "      <th>123</th>\n",
       "      <td>2</td>\n",
       "    </tr>\n",
       "    <tr>\n",
       "      <th>124</th>\n",
       "      <td>2</td>\n",
       "    </tr>\n",
       "    <tr>\n",
       "      <th>125</th>\n",
       "      <td>2</td>\n",
       "    </tr>\n",
       "    <tr>\n",
       "      <th>126</th>\n",
       "      <td>2</td>\n",
       "    </tr>\n",
       "    <tr>\n",
       "      <th>127</th>\n",
       "      <td>2</td>\n",
       "    </tr>\n",
       "    <tr>\n",
       "      <th>128</th>\n",
       "      <td>2</td>\n",
       "    </tr>\n",
       "    <tr>\n",
       "      <th>129</th>\n",
       "      <td>2</td>\n",
       "    </tr>\n",
       "    <tr>\n",
       "      <th>130</th>\n",
       "      <td>2</td>\n",
       "    </tr>\n",
       "    <tr>\n",
       "      <th>131</th>\n",
       "      <td>2</td>\n",
       "    </tr>\n",
       "    <tr>\n",
       "      <th>132</th>\n",
       "      <td>2</td>\n",
       "    </tr>\n",
       "    <tr>\n",
       "      <th>133</th>\n",
       "      <td>2</td>\n",
       "    </tr>\n",
       "    <tr>\n",
       "      <th>134</th>\n",
       "      <td>2</td>\n",
       "    </tr>\n",
       "    <tr>\n",
       "      <th>135</th>\n",
       "      <td>2</td>\n",
       "    </tr>\n",
       "    <tr>\n",
       "      <th>136</th>\n",
       "      <td>2</td>\n",
       "    </tr>\n",
       "    <tr>\n",
       "      <th>137</th>\n",
       "      <td>2</td>\n",
       "    </tr>\n",
       "    <tr>\n",
       "      <th>138</th>\n",
       "      <td>2</td>\n",
       "    </tr>\n",
       "    <tr>\n",
       "      <th>139</th>\n",
       "      <td>2</td>\n",
       "    </tr>\n",
       "    <tr>\n",
       "      <th>140</th>\n",
       "      <td>2</td>\n",
       "    </tr>\n",
       "    <tr>\n",
       "      <th>141</th>\n",
       "      <td>2</td>\n",
       "    </tr>\n",
       "    <tr>\n",
       "      <th>142</th>\n",
       "      <td>2</td>\n",
       "    </tr>\n",
       "    <tr>\n",
       "      <th>143</th>\n",
       "      <td>2</td>\n",
       "    </tr>\n",
       "    <tr>\n",
       "      <th>144</th>\n",
       "      <td>2</td>\n",
       "    </tr>\n",
       "    <tr>\n",
       "      <th>145</th>\n",
       "      <td>2</td>\n",
       "    </tr>\n",
       "    <tr>\n",
       "      <th>146</th>\n",
       "      <td>2</td>\n",
       "    </tr>\n",
       "    <tr>\n",
       "      <th>147</th>\n",
       "      <td>2</td>\n",
       "    </tr>\n",
       "    <tr>\n",
       "      <th>148</th>\n",
       "      <td>2</td>\n",
       "    </tr>\n",
       "    <tr>\n",
       "      <th>149</th>\n",
       "      <td>2</td>\n",
       "    </tr>\n",
       "  </tbody>\n",
       "</table>\n",
       "<p>150 rows × 1 columns</p>\n",
       "</div>"
      ],
      "text/plain": [
       "     Class\n",
       "0        0\n",
       "1        0\n",
       "2        0\n",
       "3        0\n",
       "4        0\n",
       "5        0\n",
       "6        0\n",
       "7        0\n",
       "8        0\n",
       "9        0\n",
       "10       0\n",
       "11       0\n",
       "12       0\n",
       "13       0\n",
       "14       0\n",
       "15       0\n",
       "16       0\n",
       "17       0\n",
       "18       0\n",
       "19       0\n",
       "20       0\n",
       "21       0\n",
       "22       0\n",
       "23       0\n",
       "24       0\n",
       "25       0\n",
       "26       0\n",
       "27       0\n",
       "28       0\n",
       "29       0\n",
       "..     ...\n",
       "120      2\n",
       "121      2\n",
       "122      2\n",
       "123      2\n",
       "124      2\n",
       "125      2\n",
       "126      2\n",
       "127      2\n",
       "128      2\n",
       "129      2\n",
       "130      2\n",
       "131      2\n",
       "132      2\n",
       "133      2\n",
       "134      2\n",
       "135      2\n",
       "136      2\n",
       "137      2\n",
       "138      2\n",
       "139      2\n",
       "140      2\n",
       "141      2\n",
       "142      2\n",
       "143      2\n",
       "144      2\n",
       "145      2\n",
       "146      2\n",
       "147      2\n",
       "148      2\n",
       "149      2\n",
       "\n",
       "[150 rows x 1 columns]"
      ]
     },
     "execution_count": 9,
     "metadata": {},
     "output_type": "execute_result"
    }
   ],
   "source": [
    "y"
   ]
  },
  {
   "cell_type": "code",
   "execution_count": 11,
   "metadata": {
    "collapsed": false
   },
   "outputs": [],
   "source": [
    "from sklearn.model_selection import train_test_split  \n",
    "X_train, X_test, y_train, y_test = train_test_split(X, y, test_size = 0.20)  "
   ]
  },
  {
   "cell_type": "code",
   "execution_count": 12,
   "metadata": {
    "collapsed": true
   },
   "outputs": [],
   "source": [
    "from sklearn.preprocessing import StandardScaler  \n",
    "scaler = StandardScaler()  \n",
    "scaler.fit(X_train)\n",
    "\n",
    "X_train = scaler.transform(X_train)  \n",
    "X_test = scaler.transform(X_test)  "
   ]
  },
  {
   "cell_type": "code",
   "execution_count": 13,
   "metadata": {
    "collapsed": false,
    "scrolled": true
   },
   "outputs": [
    {
     "data": {
      "text/plain": [
       "array([[ 1.65900895, -0.0969472 ,  1.29518553,  1.28103085],\n",
       "       [-0.20272179, -1.33457107,  0.14561257, -0.0627078 ],\n",
       "       [ 1.03843204, -0.34447198,  0.54796311,  0.20603993],\n",
       "       [ 0.66608589,  0.64562712,  0.60544176,  0.60916152],\n",
       "       [-0.94741409,  0.89315189, -1.17639633, -1.00332486],\n",
       "       [-0.57506794,  1.63572621, -1.23387497, -1.27207259],\n",
       "       [-1.31976024,  0.39810234, -1.34883227, -1.27207259],\n",
       "       [-0.45095256,  2.13077576, -1.34883227, -1.00332486],\n",
       "       [ 0.79020127,  0.39810234,  0.95031364,  1.54977858],\n",
       "       [-1.19564485,  0.89315189, -1.17639633, -1.27207259],\n",
       "       [-0.07860641, -1.33457107,  0.7778777 ,  1.14665699],\n",
       "       [-0.07860641,  1.88325099, -1.11891768, -1.13769873],\n",
       "       [-0.82329871,  0.89315189, -1.23387497, -1.27207259],\n",
       "       [ 0.91431665, -0.0969472 ,  1.23770688,  1.41540472],\n",
       "       [ 0.04550897, -0.83952152,  0.83535635,  1.01228312],\n",
       "       [-1.44387562,  0.15057757, -1.23387497, -1.27207259],\n",
       "       [ 0.04550897, -0.83952152,  0.83535635,  1.01228312],\n",
       "       [-0.82329871,  1.88325099, -1.17639633, -1.27207259],\n",
       "       [ 1.2866628 , -0.59199675,  0.66292041,  0.34041379],\n",
       "       [ 2.65193201,  1.88325099,  1.58257877,  1.14665699],\n",
       "       [ 0.41785512, -1.0870463 ,  1.12274959,  0.34041379],\n",
       "       [-0.94741409, -0.0969472 , -1.17639633, -1.27207259],\n",
       "       [ 0.41785512, -0.59199675,  0.20309122,  0.20603993],\n",
       "       [-0.20272179, -0.83952152,  0.31804852,  0.20603993],\n",
       "       [ 0.04550897, -0.59199675,  0.83535635,  1.68415245],\n",
       "       [ 1.16254742,  0.15057757,  0.43300581,  0.34041379],\n",
       "       [-0.32683717, -1.0870463 ,  0.43300581,  0.07166606],\n",
       "       [ 0.41785512, -0.0969472 ,  0.54796311,  0.34041379],\n",
       "       [-0.94741409,  1.38820144, -1.29135362, -1.27207259],\n",
       "       [ 1.16254742,  0.15057757,  1.12274959,  1.68415245],\n",
       "       [-1.69210638,  0.39810234, -1.34883227, -1.27207259],\n",
       "       [-1.44387562,  1.38820144, -1.52126821, -1.27207259],\n",
       "       [-0.45095256, -0.0969472 ,  0.49048446,  0.47478766],\n",
       "       [-0.45095256,  1.63572621, -1.23387497, -1.27207259],\n",
       "       [ 0.16962436, -0.0969472 ,  0.83535635,  0.87790926],\n",
       "       [-1.07152947,  0.15057757, -1.23387497, -1.40644646],\n",
       "       [ 0.04550897,  2.37830053, -1.40631092, -1.27207259],\n",
       "       [-0.94741409,  1.14067666, -1.17639633, -0.73457713],\n",
       "       [-0.69918332,  1.14067666, -1.23387497, -1.27207259],\n",
       "       [-0.20272179, -0.0969472 ,  0.26056987,  0.20603993],\n",
       "       [-0.82329871,  0.64562712, -1.11891768, -0.868951  ],\n",
       "       [ 0.79020127,  0.15057757,  1.06527094,  0.87790926],\n",
       "       [ 0.16962436,  0.39810234,  0.66292041,  0.87790926],\n",
       "       [ 0.41785512, -0.59199675,  0.60544176,  0.07166606],\n",
       "       [ 0.04550897, -1.0870463 ,  0.20309122,  0.07166606],\n",
       "       [-1.44387562,  0.89315189, -1.29135362, -1.13769873],\n",
       "       [ 0.79020127,  0.39810234,  0.49048446,  0.47478766],\n",
       "       [-0.32683717, -1.33457107,  0.20309122,  0.20603993],\n",
       "       [-1.19564485, -0.0969472 , -1.29135362, -1.13769873],\n",
       "       [ 0.29373974, -0.83952152,  0.83535635,  0.60916152],\n",
       "       [ 0.29373974, -0.0969472 ,  0.66292041,  0.87790926],\n",
       "       [ 1.41077818,  0.15057757,  0.83535635,  1.54977858],\n",
       "       [ 0.41785512, -0.0969472 ,  0.72039905,  0.87790926],\n",
       "       [ 0.5419705 , -0.34447198,  0.37552717,  0.20603993],\n",
       "       [ 0.91431665,  0.39810234,  0.83535635,  1.14665699],\n",
       "       [ 0.79020127, -0.34447198,  0.37552717,  0.20603993],\n",
       "       [-0.32683717,  1.14067666, -1.34883227, -1.27207259],\n",
       "       [-1.07152947, -1.58209584, -0.19925931, -0.19708167],\n",
       "       [-0.32683717,  2.87335008, -1.29135362, -1.27207259],\n",
       "       [ 0.91431665, -0.59199675,  0.54796311,  0.47478766],\n",
       "       [ 1.2866628 , -0.0969472 ,  1.06527094,  1.28103085],\n",
       "       [-0.20272179, -0.0969472 ,  0.49048446,  0.47478766],\n",
       "       [ 0.79020127, -0.83952152,  0.95031364,  1.01228312],\n",
       "       [ 2.27958586, -0.0969472 ,  1.69753607,  1.28103085],\n",
       "       [ 2.40370125, -1.0870463 ,  1.86997201,  1.54977858],\n",
       "       [ 0.66608589, -0.34447198,  1.12274959,  0.87790926],\n",
       "       [ 1.2866628 ,  0.39810234,  1.29518553,  1.54977858],\n",
       "       [-0.82329871,  1.88325099, -1.00396038, -1.00332486],\n",
       "       [-1.69210638, -0.0969472 , -1.34883227, -1.27207259],\n",
       "       [-0.94741409, -1.82962062, -0.19925931, -0.19708167],\n",
       "       [-0.94741409,  0.64562712, -1.29135362, -1.27207259],\n",
       "       [-1.31976024,  0.39810234, -1.17639633, -1.27207259],\n",
       "       [-1.19564485,  0.15057757, -1.17639633, -1.27207259],\n",
       "       [-0.20272179, -0.59199675,  0.72039905,  1.14665699],\n",
       "       [-0.07860641, -0.34447198,  0.31804852,  0.20603993],\n",
       "       [ 2.40370125, -0.59199675,  1.75501471,  1.14665699],\n",
       "       [ 2.0313551 , -0.59199675,  1.41014283,  1.01228312],\n",
       "       [-0.07860641, -0.59199675,  0.49048446,  0.20603993],\n",
       "       [-0.82329871,  1.14067666, -1.29135362, -1.27207259],\n",
       "       [-0.45095256,  0.89315189, -1.23387497, -1.00332486],\n",
       "       [ 0.29373974, -2.07714539,  0.7778777 ,  0.47478766],\n",
       "       [ 0.29373974, -2.07714539,  0.20309122, -0.19708167],\n",
       "       [ 0.29373974,  0.89315189,  0.49048446,  0.60916152],\n",
       "       [-1.44387562,  0.39810234, -1.29135362, -1.27207259],\n",
       "       [-0.94741409,  1.14067666, -1.34883227, -1.13769873],\n",
       "       [-1.567991  , -1.82962062, -1.34883227, -1.13769873],\n",
       "       [-1.81622177, -0.0969472 , -1.46378957, -1.40644646],\n",
       "       [-0.32683717, -1.82962062,  0.20309122,  0.20603993],\n",
       "       [-1.19564485,  0.89315189, -1.00396038, -1.27207259],\n",
       "       [ 1.03843204, -0.0969472 ,  0.43300581,  0.34041379],\n",
       "       [ 1.78312433,  1.38820144,  1.41014283,  1.81852632],\n",
       "       [ 0.04550897, -0.83952152,  0.26056987, -0.19708167],\n",
       "       [ 0.29373974, -0.34447198,  0.49048446,  0.47478766],\n",
       "       [-1.07152947, -1.33457107,  0.49048446,  0.74353539],\n",
       "       [-0.82329871, -1.33457107, -0.37169526, -0.0627078 ],\n",
       "       [-0.69918332, -0.83952152,  0.14561257,  0.34041379],\n",
       "       [-0.69918332,  0.89315189, -1.29135362, -1.27207259],\n",
       "       [ 0.5419705 ,  0.89315189,  1.00779229,  1.54977858],\n",
       "       [ 0.79020127, -0.59199675,  1.12274959,  1.28103085],\n",
       "       [ 0.66608589, -1.82962062,  0.43300581,  0.20603993],\n",
       "       [-0.45095256,  0.89315189, -1.11891768, -1.27207259],\n",
       "       [-0.07860641, -1.0870463 , -0.08430202, -0.19708167],\n",
       "       [-0.20272179, -0.34447198, -0.02682337,  0.20603993],\n",
       "       [ 0.91431665, -0.0969472 ,  1.06527094,  0.87790926],\n",
       "       [-0.82329871,  1.88325099, -1.23387497, -1.13769873],\n",
       "       [-1.07152947,  0.15057757, -1.23387497, -1.40644646],\n",
       "       [ 0.66608589, -0.59199675,  0.83535635,  0.47478766],\n",
       "       [ 0.04550897, -0.83952152,  0.14561257,  0.07166606],\n",
       "       [ 1.16254742,  0.15057757,  0.60544176,  0.47478766],\n",
       "       [ 0.66608589, -1.33457107,  0.72039905,  0.47478766],\n",
       "       [-0.07860641, -0.0969472 ,  0.31804852,  0.07166606],\n",
       "       [-1.07152947, -0.0969472 , -1.29135362, -1.27207259],\n",
       "       [-0.94741409,  0.39810234, -1.40631092, -1.27207259],\n",
       "       [ 1.16254742, -0.0969472 ,  0.892835  ,  1.54977858],\n",
       "       [ 1.16254742,  0.64562712,  1.18022824,  1.28103085],\n",
       "       [ 1.90723971, -0.34447198,  1.52510012,  0.87790926],\n",
       "       [ 1.41077818,  0.15057757,  1.00779229,  1.28103085],\n",
       "       [-0.32683717, -1.58209584,  0.03065528, -0.19708167],\n",
       "       [-0.07860641, -0.59199675,  0.26056987,  0.20603993],\n",
       "       [-1.69210638, -0.34447198, -1.29135362, -1.27207259]])"
      ]
     },
     "execution_count": 13,
     "metadata": {},
     "output_type": "execute_result"
    }
   ],
   "source": [
    "X_train"
   ]
  },
  {
   "cell_type": "code",
   "execution_count": 23,
   "metadata": {
    "collapsed": false
   },
   "outputs": [
    {
     "data": {
      "text/plain": [
       "MLPClassifier(activation='relu', alpha=0.0001, batch_size='auto', beta_1=0.9,\n",
       "       beta_2=0.999, early_stopping=False, epsilon=1e-08,\n",
       "       hidden_layer_sizes=(10, 10, 10), learning_rate='constant',\n",
       "       learning_rate_init=0.001, max_iter=1000, momentum=0.9,\n",
       "       nesterovs_momentum=True, power_t=0.5, random_state=None,\n",
       "       shuffle=True, solver='adam', tol=0.0001, validation_fraction=0.1,\n",
       "       verbose=False, warm_start=False)"
      ]
     },
     "execution_count": 23,
     "metadata": {},
     "output_type": "execute_result"
    }
   ],
   "source": [
    "from sklearn.neural_network import MLPClassifier  \n",
    "mlp = MLPClassifier(hidden_layer_sizes=(10, 10, 10), max_iter=1000)  \n",
    "mlp.fit(X_train, y_train.values.ravel())  "
   ]
  },
  {
   "cell_type": "code",
   "execution_count": 24,
   "metadata": {
    "collapsed": false
   },
   "outputs": [
    {
     "data": {
      "text/plain": [
       "array([2, 1, 1, 1, 0, 0, 0, 0, 2, 0, 2, 0, 0, 2, 2, 0, 2, 0, 1, 2, 2, 0,\n",
       "       1, 1, 2, 1, 1, 1, 0, 2, 0, 0, 1, 0, 2, 0, 0, 0, 0, 1, 0, 2, 1, 1,\n",
       "       1, 0, 1, 1, 0, 1, 2, 2, 2, 1, 2, 1, 0, 1, 0, 1, 2, 1, 2, 2, 2, 2,\n",
       "       2, 0, 0, 1, 0, 0, 0, 2, 1, 2, 2, 1, 0, 0, 2, 1, 1, 0, 0, 0, 0, 1,\n",
       "       0, 1, 2, 1, 1, 2, 1, 1, 0, 2, 2, 1, 0, 1, 1, 2, 0, 0, 2, 1, 1, 1,\n",
       "       1, 0, 0, 2, 2, 2, 2, 1, 1, 0], dtype=int64)"
      ]
     },
     "execution_count": 24,
     "metadata": {},
     "output_type": "execute_result"
    }
   ],
   "source": [
    "y_train.values.ravel()"
   ]
  },
  {
   "cell_type": "code",
   "execution_count": 25,
   "metadata": {
    "collapsed": false
   },
   "outputs": [
    {
     "data": {
      "text/plain": [
       "array([0, 2, 1, 2, 2, 2, 2, 2, 2, 0, 1, 2, 2, 0, 2, 1, 0, 1, 1, 1, 0, 1,\n",
       "       0, 2, 2, 2, 0, 0, 2, 2], dtype=int64)"
      ]
     },
     "execution_count": 25,
     "metadata": {},
     "output_type": "execute_result"
    }
   ],
   "source": [
    "predictions = mlp.predict(X_test)  \n",
    "predictions"
   ]
  },
  {
   "cell_type": "code",
   "execution_count": 26,
   "metadata": {
    "collapsed": false
   },
   "outputs": [
    {
     "name": "stdout",
     "output_type": "stream",
     "text": [
      "[[ 8  0  0]\n",
      " [ 0  7  1]\n",
      " [ 0  0 14]]\n",
      "             precision    recall  f1-score   support\n",
      "\n",
      "          0       1.00      1.00      1.00         8\n",
      "          1       1.00      0.88      0.93         8\n",
      "          2       0.93      1.00      0.97        14\n",
      "\n",
      "avg / total       0.97      0.97      0.97        30\n",
      "\n"
     ]
    }
   ],
   "source": [
    "from sklearn.metrics import classification_report, confusion_matrix  \n",
    "print(confusion_matrix(y_test,predictions))  \n",
    "print(classification_report(y_test,predictions))  "
   ]
  },
  {
   "cell_type": "code",
   "execution_count": null,
   "metadata": {
    "collapsed": true
   },
   "outputs": [],
   "source": []
  }
 ],
 "metadata": {
  "anaconda-cloud": {},
  "kernelspec": {
   "display_name": "Python [default]",
   "language": "python",
   "name": "python3"
  },
  "language_info": {
   "codemirror_mode": {
    "name": "ipython",
    "version": 3
   },
   "file_extension": ".py",
   "mimetype": "text/x-python",
   "name": "python",
   "nbconvert_exporter": "python",
   "pygments_lexer": "ipython3",
   "version": "3.5.2"
  }
 },
 "nbformat": 4,
 "nbformat_minor": 1
}
